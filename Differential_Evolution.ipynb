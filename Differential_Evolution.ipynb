{
  "nbformat": 4,
  "nbformat_minor": 0,
  "metadata": {
    "colab": {
      "provenance": [],
      "authorship_tag": "ABX9TyOKNofT1aTihJoC8KZ0pZ4M",
      "include_colab_link": true
    },
    "kernelspec": {
      "name": "python3",
      "display_name": "Python 3"
    },
    "language_info": {
      "name": "python"
    }
  },
  "cells": [
    {
      "cell_type": "markdown",
      "metadata": {
        "id": "view-in-github",
        "colab_type": "text"
      },
      "source": [
        "<a href=\"https://colab.research.google.com/github/md-abdullah-al-mamun-mojumder/Soft_Computing/blob/main/Differential_Evolution.ipynb\" target=\"_parent\"><img src=\"https://colab.research.google.com/assets/colab-badge.svg\" alt=\"Open In Colab\"/></a>"
      ]
    },
    {
      "cell_type": "markdown",
      "source": [
        "MD ABDULLAH AL MAMUN MOJUMDER\n",
        "\n",
        "SAU/CS(M)/2023/03"
      ],
      "metadata": {
        "id": "9oCg5eUkAmLs"
      }
    },
    {
      "cell_type": "markdown",
      "source": [
        "**Differential Evolution (DE):**\n",
        "\n",
        "Differential Evolution (DE) is a population-based, stochastic optimization algorithm within the soft computing paradigm, primarily used for solving complex, non-linear, and multi-dimensional optimization problems. Introduced by Storn and Price in 1995, DE is particularly effective for continuous optimization tasks and is widely applied in engineering, machine learning, and data science due to its simplicity, robustness, and efficiency."
      ],
      "metadata": {
        "id": "bnwi11xgAs5x"
      }
    },
    {
      "cell_type": "markdown",
      "source": [
        "#How Differential Evolution works\n",
        "# Initialization\n",
        "\n",
        "-> Randomly generate a population of candidate solution(vectors).\n",
        "\n",
        "-> Each solution has dimension = number of variables.\n",
        "\n",
        "Pop = [x1, x2, ..., xn]  where xi = [x1_i, x2_i, ..., xd_i]\n",
        "\n",
        "# Mutation\n",
        "\n",
        "-> For each solution\n",
        "𝑥\n",
        "𝑖\n",
        ", create a mutant vector:\n",
        "\n",
        "𝑣\n",
        "𝑖\n",
        "=\n",
        "𝑥\n",
        "𝑟\n",
        "1\n",
        "+\n",
        "𝐹\n",
        "⋅\n",
        "(\n",
        "𝑥\n",
        "𝑟\n",
        "2\n",
        "−\n",
        "𝑥\n",
        "𝑟\n",
        "3\n",
        ")\n",
        "\n",
        "-> r1,r2,r3: random distinct indices from the population\n",
        "\n",
        "-> F: mutation factor (e.g., 0.5 to 1)\n",
        "\n",
        "# Crossover\n",
        "-> Mix the mutant vector\n",
        "𝑣\n",
        "𝑖\n",
        "with the original\n",
        "𝑥\n",
        "𝑖\n",
        "to produce a trial vector\n",
        "𝑢\n",
        "𝑖\n",
        ":\n",
        "\n",
        "𝑢\n",
        "𝑖\n",
        ",\n",
        "𝑗\n",
        "=\n",
        "{\n",
        "𝑣\n",
        "𝑖\n",
        ",\n",
        "𝑗\n",
        ",\n",
        "if rand\n",
        "≤\n",
        "𝐶\n",
        "𝑅\n",
        " or\n",
        "𝑗\n",
        "-\n",
        "𝑗\n",
        "𝑟\n",
        "𝑎\n",
        "𝑛\n",
        "𝑑\n",
        "\n",
        "𝑥\n",
        "𝑖\n",
        ",\n",
        "𝑗\n",
        ",\n",
        "otherwise\n",
        "\n",
        "-> CR: crossover probability\n",
        "\n",
        "# Selection\n",
        "\n",
        "Choose the better between\n",
        "𝑢\n",
        "𝑖\n",
        " and\n",
        "𝑥\n",
        "𝑖\n",
        ":\n",
        "\n",
        "if f(u_i) < f(x_i):\n",
        "\n",
        "    x_i = u_i\n",
        "\n",
        "# Repeat\n",
        "\n",
        "-> Loop through generations until a stopping criterion is met (max gen, error threshold)\n"
      ],
      "metadata": {
        "id": "om8I5xxmG4FC"
      }
    },
    {
      "cell_type": "code",
      "source": [
        "import numpy as np\n",
        "import matplotlib.pyplot as plt"
      ],
      "metadata": {
        "id": "RKa1OaA5INOx"
      },
      "execution_count": null,
      "outputs": []
    },
    {
      "cell_type": "code",
      "source": [
        "# Objective function: Sphere function (objective function to minimize)\n",
        "def sphere_func(x):\n",
        "    return np.sum(np.square(x))\n"
      ],
      "metadata": {
        "id": "VBp6FWvImslQ"
      },
      "execution_count": null,
      "outputs": []
    },
    {
      "cell_type": "code",
      "source": [
        "# Differential Evolution parameters\n",
        "pop_size = 5\n",
        "num_vars = 2\n",
        "lb, ub = -5, 5\n",
        "num_generations = 50\n",
        "F = 0.4  # Differential weight\n",
        "CR = 0.8  # Crossover probability"
      ],
      "metadata": {
        "id": "acTxhesfL4Ko"
      },
      "execution_count": null,
      "outputs": []
    },
    {
      "cell_type": "code",
      "source": [
        "# Initialize population\n",
        "population = lb + (ub - lb) * np.random.rand(pop_size, num_vars)\n",
        "trial_population = np.zeros((pop_size, num_vars))\n",
        "\n",
        "# Evaluate initial population\n",
        "fitness = np.array([sphere_func(ind) for ind in population])\n",
        "fitness_history = []  # For storing best fitness per generation"
      ],
      "metadata": {
        "id": "wph4bM7jL8Hf"
      },
      "execution_count": null,
      "outputs": []
    },
    {
      "cell_type": "code",
      "source": [
        "# Main DE loop\n",
        "for gen in range(num_generations):\n",
        "    # Mutation and Crossover\n",
        "    for i in range(pop_size):\n",
        "        indices = [idx for idx in range(pop_size) if idx != i]\n",
        "        a_idx, b_idx, c_idx = np.random.choice(indices, 3, replace=False)\n",
        "        a, b, c = population[a_idx], population[b_idx], population[c_idx]\n",
        "        mutant_vector = a + F * (b - c)\n",
        "\n",
        "        # Clip to ensure within bounds\n",
        "        mutant_vector = np.clip(mutant_vector, lb, ub)\n",
        "\n",
        "        # Crossover\n",
        "        j_rand = np.random.randint(num_vars)\n",
        "        trial = np.array([mutant_vector[j] if (np.random.rand() <= CR or j == j_rand) else population[i, j] for j in range(num_vars)])\n",
        "        trial_population[i] = trial\n",
        "\n",
        "    # Selection\n",
        "    for i in range(pop_size):\n",
        "        trial_fitness = sphere_func(trial_population[i])\n",
        "        if trial_fitness < fitness[i]:\n",
        "            population[i] = trial_population[i]\n",
        "            fitness[i] = trial_fitness\n",
        "\n",
        "    # Store current best fitness for convergence plot\n",
        "    best_fitness = np.min(fitness)\n",
        "     # Round to avoid float precision issues causing false 0.000000 output\n",
        "    best_fitness_rounded = round(best_fitness, 8)\n",
        "    fitness_history.append( best_fitness_rounded)\n",
        "    print(f\"Generation {gen + 1}: Best fitness = {best_fitness_rounded:.6f}\")"
      ],
      "metadata": {
        "colab": {
          "base_uri": "https://localhost:8080/"
        },
        "id": "Biwf4foUL_i4",
        "outputId": "35211381-862c-42b1-ef73-eaee1810a29f"
      },
      "execution_count": null,
      "outputs": [
        {
          "output_type": "stream",
          "name": "stdout",
          "text": [
            "Generation 1: Best fitness = 3.662412\n",
            "Generation 2: Best fitness = 1.070013\n",
            "Generation 3: Best fitness = 1.070013\n",
            "Generation 4: Best fitness = 1.070013\n",
            "Generation 5: Best fitness = 1.070013\n",
            "Generation 6: Best fitness = 1.070013\n",
            "Generation 7: Best fitness = 0.704257\n",
            "Generation 8: Best fitness = 0.704257\n",
            "Generation 9: Best fitness = 0.627153\n",
            "Generation 10: Best fitness = 0.627153\n",
            "Generation 11: Best fitness = 0.619577\n",
            "Generation 12: Best fitness = 0.490171\n",
            "Generation 13: Best fitness = 0.465004\n",
            "Generation 14: Best fitness = 0.420274\n",
            "Generation 15: Best fitness = 0.420274\n",
            "Generation 16: Best fitness = 0.420274\n",
            "Generation 17: Best fitness = 0.420274\n",
            "Generation 18: Best fitness = 0.416377\n",
            "Generation 19: Best fitness = 0.416377\n",
            "Generation 20: Best fitness = 0.414780\n",
            "Generation 21: Best fitness = 0.414780\n",
            "Generation 22: Best fitness = 0.414137\n",
            "Generation 23: Best fitness = 0.413808\n",
            "Generation 24: Best fitness = 0.413470\n",
            "Generation 25: Best fitness = 0.413217\n",
            "Generation 26: Best fitness = 0.413217\n",
            "Generation 27: Best fitness = 0.413217\n",
            "Generation 28: Best fitness = 0.413217\n",
            "Generation 29: Best fitness = 0.413210\n",
            "Generation 30: Best fitness = 0.413210\n",
            "Generation 31: Best fitness = 0.413200\n",
            "Generation 32: Best fitness = 0.413200\n",
            "Generation 33: Best fitness = 0.413200\n",
            "Generation 34: Best fitness = 0.413196\n",
            "Generation 35: Best fitness = 0.413196\n",
            "Generation 36: Best fitness = 0.413193\n",
            "Generation 37: Best fitness = 0.413188\n",
            "Generation 38: Best fitness = 0.413187\n",
            "Generation 39: Best fitness = 0.413185\n",
            "Generation 40: Best fitness = 0.413183\n",
            "Generation 41: Best fitness = 0.413183\n",
            "Generation 42: Best fitness = 0.413182\n",
            "Generation 43: Best fitness = 0.413182\n",
            "Generation 44: Best fitness = 0.413182\n",
            "Generation 45: Best fitness = 0.413182\n",
            "Generation 46: Best fitness = 0.413182\n",
            "Generation 47: Best fitness = 0.413182\n",
            "Generation 48: Best fitness = 0.413182\n",
            "Generation 49: Best fitness = 0.413182\n",
            "Generation 50: Best fitness = 0.413182\n"
          ]
        }
      ]
    },
    {
      "cell_type": "code",
      "source": [
        "# Final evaluation\n",
        "best_index = np.argmin(fitness)\n",
        "best_solution = population[best_index]\n",
        "print(f\"\\nFinal Best fitness: {best_fitness:.7f}\")\n",
        "print(\"Best Solution:\", best_solution)"
      ],
      "metadata": {
        "colab": {
          "base_uri": "https://localhost:8080/"
        },
        "id": "tXQlgr3bMGEg",
        "outputId": "027aec62-cb5e-4363-f824-2ff3444a8d41"
      },
      "execution_count": null,
      "outputs": [
        {
          "output_type": "stream",
          "name": "stdout",
          "text": [
            "\n",
            "Final Best fitness: 0.4131817\n",
            "Best Solution: [ 0.64142874 -0.04184344]\n"
          ]
        }
      ]
    },
    {
      "cell_type": "code",
      "source": [
        "# Plot convergence curve for evaluation\n",
        "plt.plot(fitness_history, label='Best Fitness')\n",
        "plt.xlabel('Generation')\n",
        "plt.ylabel('Fitness (Sphere Function)')\n",
        "plt.title('Convergence Curve of Differential Evolution')\n",
        "plt.legend()\n",
        "plt.grid(True)\n",
        "plt.show()"
      ],
      "metadata": {
        "colab": {
          "base_uri": "https://localhost:8080/",
          "height": 472
        },
        "id": "iR1MgZEsMuzR",
        "outputId": "3b5e1d81-3e35-49ed-8d11-2f764dbccf63"
      },
      "execution_count": null,
      "outputs": [
        {
          "output_type": "display_data",
          "data": {
            "text/plain": [
              "<Figure size 640x480 with 1 Axes>"
            ],
            "image/png": "[encoded data removed]"
          },
          "metadata": {}
        }
      ]
    }
  ]
}